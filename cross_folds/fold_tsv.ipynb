{
 "cells": [
  {
   "cell_type": "code",
   "execution_count": 78,
   "id": "6e605af8-3210-48dc-98dd-84aa886eb38b",
   "metadata": {},
   "outputs": [],
   "source": [
    "import pandas as pd \n"
   ]
  },
  {
   "cell_type": "code",
   "execution_count": 79,
   "id": "40b4d632-4d9e-48f8-b402-e4813b2c16c7",
   "metadata": {},
   "outputs": [],
   "source": [
    "# firstly we create a tsv file with all our folds\n",
    "# in this case we chose to use tuples since we are working with fixed values \n",
    "fold_files = [\n",
    "    (\"fold_aa\", \"aa\", \"train\"),\n",
    "    (\"fold_ab\", \"ab\", \"train\"),\n",
    "    (\"fold_ac\", \"ac\", \"train\"),\n",
    "    (\"fold_ad\", \"ad\", \"train\"),\n",
    "    (\"fold_ae\", \"ae\", \"train\"),\n",
    "    (\"fold_bench_aa\", \"aa\", \"bench\"),\n",
    "    (\"fold_bench_ab\", \"ab\", \"bench\"),\n",
    "    (\"fold_bench_ac\", \"ac\", \"bench\"),\n",
    "    (\"fold_bench_ad\", \"ad\", \"bench\"),\n",
    "    (\"fold_bench_ae\", \"ae\", \"bench\"),\n",
    "]\n",
    "rows = []\n",
    "for file_name, num, setname in fold_files:\n",
    "    f= open(file_name, 'r')\n",
    "    for line in f:\n",
    "        sequence_id = line.strip()\n",
    "        rows.append([sequence_id, num, setname])\n",
    "\n",
    "folds = pd.DataFrame(rows, columns=[\"id\", \"Fold\", \"Set\"])\n",
    "\n",
    "folds.to_csv(\"folds.tsv\", sep=\"\\t\", index=False)"
   ]
  },
  {
   "cell_type": "code",
   "execution_count": 80,
   "id": "969e1fc7-fa7c-4497-8f50-0297ce192c6c",
   "metadata": {},
   "outputs": [],
   "source": [
    "positive= pd.read_csv(\"positive_info.tsv\", sep=\"\\t\")\n",
    "negative= pd.read_csv(\"neg_info.tsv\", sep=\"\\t\")"
   ]
  },
  {
   "cell_type": "code",
   "execution_count": 85,
   "id": "f922a7b8-8df3-4d38-adae-77c95dabe879",
   "metadata": {},
   "outputs": [],
   "source": [
    "# here we add a label to the positive and to the negative TSV files with the original information\n",
    "positive[\"label\"] = \"positive\"\n",
    "negative[\"label\"] = \"negative\"\n",
    "\n",
    "# glue together both positive and negatives into one big dataframe:\n",
    "pos_neg = pd.concat([positive, negative], ignore_index=True)\n",
    "\n",
    "# we merge the databases together \n",
    "# using merge in this case is much more suitable because we can align two datasets based on matching keys\n",
    "# merge the dataset folds with pos_neg, matching the column named \"uniprot accession numbers\" on pos_neg and the column \"id\" on folds\n",
    "# \"how=left\" tells the code to add columns even if they dont match or are empty\n",
    "all_info = pos_neg.merge(folds, left_on=\"UniprotAccession\", right_on=\"id\", how=\"left\")\n",
    "\n",
    "# now we drop the column named id to avoid overwriting of the same accession number\n",
    "all_info = all_info.drop(columns=[\"id\"])\n",
    "\n",
    "# adding N/A to the TMHelix column for the positive dataset \n",
    "all_info[\"TMHelixFirst90\"] = all_info[\"TMHelixFirst90\"].fillna(\"N/A\")\n",
    "\n",
    "#store into csv\n",
    "all_info.to_csv(\"all.tsv\", sep=\"\\t\", index=False)"
   ]
  },
  {
   "cell_type": "code",
   "execution_count": null,
   "id": "dfd80357-12c7-4dab-8caa-3bab55e91cab",
   "metadata": {},
   "outputs": [],
   "source": []
  }
 ],
 "metadata": {
  "kernelspec": {
   "display_name": "Python 3 (ipykernel)",
   "language": "python",
   "name": "python3"
  },
  "language_info": {
   "codemirror_mode": {
    "name": "ipython",
    "version": 3
   },
   "file_extension": ".py",
   "mimetype": "text/x-python",
   "name": "python",
   "nbconvert_exporter": "python",
   "pygments_lexer": "ipython3",
   "version": "3.11.6"
  }
 },
 "nbformat": 4,
 "nbformat_minor": 5
}
